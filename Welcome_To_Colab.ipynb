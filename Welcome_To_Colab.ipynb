{
  "cells": [
    {
      "cell_type": "markdown",
      "metadata": {
        "id": "view-in-github",
        "colab_type": "text"
      },
      "source": [
        "<a href=\"https://colab.research.google.com/github/satique01/MovieSearch/blob/main/Welcome_To_Colab.ipynb\" target=\"_parent\"><img src=\"https://colab.research.google.com/assets/colab-badge.svg\" alt=\"Open In Colab\"/></a>"
      ]
    },
    {
      "cell_type": "code",
      "source": [
        "import streamlit as st\n",
        "import requests\n",
        "from bs4 import BeautifulSoup\n",
        "\n",
        "# Function to fetch free streaming movie websites\n",
        "def get_free_movie_sites():\n",
        "    # A list of legal websites that offer free movies\n",
        "    free_sites = [\n",
        "        {\n",
        "            \"name\": \"YouTube Movies (Free Section)\",\n",
        "            \"url\": \"https://www.youtube.com/feed/storefront?bp=ogUCKAI%3D\",\n",
        "            \"description\": \"YouTube has a collection of movies available for free with ads.\"\n",
        "        },\n",
        "        {\n",
        "            \"name\": \"Tubi TV\",\n",
        "            \"url\": \"https://tubitv.com/\",\n",
        "            \"description\": \"A free streaming service with a large collection of movies and shows supported by ads.\"\n",
        "        },\n",
        "        {\n",
        "            \"name\": \"Peacock TV\",\n",
        "            \"url\": \"https://www.peacocktv.com/\",\n",
        "            \"description\": \"Peacock offers a free tier with access to thousands of hours of movies and shows.\"\n",
        "        },\n",
        "        {\n",
        "            \"name\": \"Pluto TV\",\n",
        "            \"url\": \"https://pluto.tv/\",\n",
        "            \"description\": \"Pluto TV offers live TV channels and on-demand movies for free.\"\n",
        "        },\n",
        "        {\n",
        "            \"name\": \"Crackle\",\n",
        "            \"url\": \"https://www.crackle.com/\",\n",
        "            \"description\": \"Sony's Crackle provides free movies and TV shows supported by ads.\"\n",
        "        }\n",
        "    ]\n",
        "    return free_sites\n",
        "\n",
        "# Function to find Netflix's free trial page (if available)\n",
        "def find_netflix_free_trial():\n",
        "    url = \"https://www.netflix.com/\"\n",
        "    response = requests.get(url)\n",
        "    if response.status_code == 200:\n",
        "        return url\n",
        "    else:\n",
        "        return None\n",
        "\n",
        "# Streamlit App Layout\n",
        "st.title(\"Find Legal Free Movie Streaming Options\")\n",
        "st.write(\"This app helps you discover websites that offer **legal** free streaming movies. Explore and enjoy free content from these platforms.\")\n",
        "\n",
        "# Display free movie streaming options\n",
        "st.subheader(\"Free Movie Streaming Websites:\")\n",
        "free_sites = get_free_movie_sites()\n",
        "for site in free_sites:\n",
        "    st.write(f\"### [{site['name']}]({site['url']})\")\n",
        "    st.write(site['description'])\n",
        "\n",
        "# Check for Netflix free trial page\n",
        "st.subheader(\"Netflix Free Trial:\")\n",
        "netflix_trial_url = find_netflix_free_trial()\n",
        "if netflix_trial_url:\n",
        "    st.write(f\"Netflix free trial might be available [here]({netflix_trial_url}).\")\n",
        "else:\n",
        "    st.write(\"Netflix free trial is not available at the moment.\")\n",
        "\n",
        "st.write(\"**Note**: This app only lists legal options for free movies and does not promote piracy or illegal streaming.\")\n"
      ],
      "metadata": {
        "id": "8P3QFIV-uN3o",
        "outputId": "6d7ae611-a4e2-48ba-82bf-797d55c6d7d9",
        "colab": {
          "base_uri": "https://localhost:8080/",
          "height": 383
        }
      },
      "execution_count": 3,
      "outputs": [
        {
          "output_type": "error",
          "ename": "ModuleNotFoundError",
          "evalue": "No module named 'streamlit'",
          "traceback": [
            "\u001b[0;31m---------------------------------------------------------------------------\u001b[0m",
            "\u001b[0;31mModuleNotFoundError\u001b[0m                       Traceback (most recent call last)",
            "\u001b[0;32m<ipython-input-3-afaa10640ef9>\u001b[0m in \u001b[0;36m<cell line: 1>\u001b[0;34m()\u001b[0m\n\u001b[0;32m----> 1\u001b[0;31m \u001b[0;32mimport\u001b[0m \u001b[0mstreamlit\u001b[0m \u001b[0;32mas\u001b[0m \u001b[0mst\u001b[0m\u001b[0;34m\u001b[0m\u001b[0;34m\u001b[0m\u001b[0m\n\u001b[0m\u001b[1;32m      2\u001b[0m \u001b[0;32mimport\u001b[0m \u001b[0mrequests\u001b[0m\u001b[0;34m\u001b[0m\u001b[0;34m\u001b[0m\u001b[0m\n\u001b[1;32m      3\u001b[0m \u001b[0;32mfrom\u001b[0m \u001b[0mbs4\u001b[0m \u001b[0;32mimport\u001b[0m \u001b[0mBeautifulSoup\u001b[0m\u001b[0;34m\u001b[0m\u001b[0;34m\u001b[0m\u001b[0m\n\u001b[1;32m      4\u001b[0m \u001b[0;34m\u001b[0m\u001b[0m\n\u001b[1;32m      5\u001b[0m \u001b[0;31m# Function to fetch free streaming movie websites\u001b[0m\u001b[0;34m\u001b[0m\u001b[0;34m\u001b[0m\u001b[0m\n",
            "\u001b[0;31mModuleNotFoundError\u001b[0m: No module named 'streamlit'",
            "",
            "\u001b[0;31m---------------------------------------------------------------------------\u001b[0;32m\nNOTE: If your import is failing due to a missing package, you can\nmanually install dependencies using either !pip or !apt.\n\nTo view examples of installing some common dependencies, click the\n\"Open Examples\" button below.\n\u001b[0;31m---------------------------------------------------------------------------\u001b[0m\n"
          ],
          "errorDetails": {
            "actions": [
              {
                "action": "open_url",
                "actionText": "Open Examples",
                "url": "/notebooks/snippets/importing_libraries.ipynb"
              }
            ]
          }
        }
      ]
    }
  ],
  "metadata": {
    "colab": {
      "name": "Welcome To Colab",
      "toc_visible": true,
      "provenance": [],
      "include_colab_link": true
    },
    "kernelspec": {
      "display_name": "Python 3",
      "name": "python3"
    }
  },
  "nbformat": 4,
  "nbformat_minor": 0
}